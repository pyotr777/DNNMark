{
 "cells": [
  {
   "cell_type": "code",
   "execution_count": 1,
   "metadata": {},
   "outputs": [],
   "source": [
    "%matplotlib inline\n",
    "import matplotlib\n",
    "import seaborn as sns\n",
    "import numpy as np\n",
    "import matplotlib.pyplot as plt\n",
    "from matplotlib import cm\n",
    "from matplotlib.ticker import MultipleLocator\n",
    "from matplotlib.ticker import AutoMinorLocator\n",
    "from matplotlib.ticker import LinearLocator\n",
    "import pandas as pd\n",
    "import lib"
   ]
  },
  {
   "cell_type": "code",
   "execution_count": 11,
   "metadata": {},
   "outputs": [
    {
     "name": "stdout",
     "output_type": "stream",
     "text": [
      "  optimizer  batch      y      h\n",
      "0      Adam      1   71.0   61.0\n",
      "1      Adam      2   77.0   68.0\n",
      "2      Adam      4   89.0   81.0\n",
      "3      Adam      8  111.0  106.0\n",
      "4      Adam     16  136.0  159.0\n"
     ]
    }
   ],
   "source": [
    "df = pd.DataFrame(columns=[\"optimizer\",\"batch\",\"y\",\"h\"], data=[\n",
    "    [\"Adam\",1,71,61],\n",
    "    [\"Adam\",2,77,68],\n",
    "    [\"Adam\",4,89,81],\n",
    "    [\"Adam\",8,111,106],\n",
    "    [\"Adam\",16,136,159],\n",
    "    [\"Adam\",32,275,211],\n",
    "    [\"SGD\",1,65,57],\n",
    "    [\"SGD\",2,72,63],\n",
    "    [\"SGD\",4,84,75],\n",
    "    [\"SGD\",8,105,96],\n",
    "    [\"SGD\",16,130,146],\n",
    "    [\"SGD\",32,204,247]                                        \n",
    "                                                              ])\n",
    "df[[\"y\",\"h\"]] = df[[\"y\",\"h\"]].astype(float)\n",
    "print df.head()                  "
   ]
  },
  {
   "cell_type": "code",
   "execution_count": 12,
   "metadata": {},
   "outputs": [
    {
     "data": {
      "text/html": [
       "<div>\n",
       "<style scoped>\n",
       "    .dataframe tbody tr th:only-of-type {\n",
       "        vertical-align: middle;\n",
       "    }\n",
       "\n",
       "    .dataframe tbody tr th {\n",
       "        vertical-align: top;\n",
       "    }\n",
       "\n",
       "    .dataframe thead th {\n",
       "        text-align: right;\n",
       "    }\n",
       "</style>\n",
       "<table border=\"1\" class=\"dataframe\">\n",
       "  <thead>\n",
       "    <tr style=\"text-align: right;\">\n",
       "      <th></th>\n",
       "      <th>optimizer</th>\n",
       "      <th>batch</th>\n",
       "      <th>y</th>\n",
       "      <th>h</th>\n",
       "      <th>MAPE</th>\n",
       "    </tr>\n",
       "  </thead>\n",
       "  <tbody>\n",
       "    <tr>\n",
       "      <th>0</th>\n",
       "      <td>Adam</td>\n",
       "      <td>1</td>\n",
       "      <td>71.0</td>\n",
       "      <td>61.0</td>\n",
       "      <td>14.084507</td>\n",
       "    </tr>\n",
       "    <tr>\n",
       "      <th>1</th>\n",
       "      <td>Adam</td>\n",
       "      <td>2</td>\n",
       "      <td>77.0</td>\n",
       "      <td>68.0</td>\n",
       "      <td>11.688312</td>\n",
       "    </tr>\n",
       "    <tr>\n",
       "      <th>2</th>\n",
       "      <td>Adam</td>\n",
       "      <td>4</td>\n",
       "      <td>89.0</td>\n",
       "      <td>81.0</td>\n",
       "      <td>8.988764</td>\n",
       "    </tr>\n",
       "    <tr>\n",
       "      <th>3</th>\n",
       "      <td>Adam</td>\n",
       "      <td>8</td>\n",
       "      <td>111.0</td>\n",
       "      <td>106.0</td>\n",
       "      <td>4.504505</td>\n",
       "    </tr>\n",
       "    <tr>\n",
       "      <th>4</th>\n",
       "      <td>Adam</td>\n",
       "      <td>16</td>\n",
       "      <td>136.0</td>\n",
       "      <td>159.0</td>\n",
       "      <td>16.911765</td>\n",
       "    </tr>\n",
       "  </tbody>\n",
       "</table>\n",
       "</div>"
      ],
      "text/plain": [
       "  optimizer  batch      y      h       MAPE\n",
       "0      Adam      1   71.0   61.0  14.084507\n",
       "1      Adam      2   77.0   68.0  11.688312\n",
       "2      Adam      4   89.0   81.0   8.988764\n",
       "3      Adam      8  111.0  106.0   4.504505\n",
       "4      Adam     16  136.0  159.0  16.911765"
      ]
     },
     "execution_count": 12,
     "metadata": {},
     "output_type": "execute_result"
    }
   ],
   "source": [
    "def mape(s):\n",
    "    y = s[\"y\"]\n",
    "    h = s[\"h\"]\n",
    "    err = lib.lib.MAPE(y,h)\n",
    "    return err\n",
    "    \n",
    "df[\"MAPE\"] = df.apply(mape,axis=1)\n",
    "df.head()\n",
    "        "
   ]
  },
  {
   "cell_type": "code",
   "execution_count": 21,
   "metadata": {},
   "outputs": [
    {
     "data": {
      "image/png": "[encoded data removed]",
      "text/plain": [
       "<Figure size 720x288 with 2 Axes>"
      ]
     },
     "metadata": {},
     "output_type": "display_data"
    }
   ],
   "source": [
    "fig,axs = plt.subplots(1,2, figsize=(10,4))\n",
    "i = 0\n",
    "for optimizer, df_ in df.groupby(by=\"optimizer\"):\n",
    "    ax = axs[i]\n",
    "    i += 1\n",
    "    df_.plot.bar(\"batch\",\"MAPE\", ax=ax)\n",
    "    ax.set_title(\"Justus {}\".format(optimizer))\n",
    "    ax.grid(ls=\":\",lw=0.3)"
   ]
  },
  {
   "cell_type": "code",
   "execution_count": null,
   "metadata": {},
   "outputs": [],
   "source": []
  }
 ],
 "metadata": {
  "kernelspec": {
   "display_name": "Python 2",
   "language": "python",
   "name": "python2"
  },
  "language_info": {
   "codemirror_mode": {
    "name": "ipython",
    "version": 2
   },
   "file_extension": ".py",
   "mimetype": "text/x-python",
   "name": "python",
   "nbconvert_exporter": "python",
   "pygments_lexer": "ipython2",
   "version": "2.7.12"
  },
  "toc": {
   "base_numbering": 1,
   "nav_menu": {},
   "number_sections": true,
   "sideBar": true,
   "skip_h1_title": false,
   "title_cell": "Table of Contents",
   "title_sidebar": "Contents",
   "toc_cell": false,
   "toc_position": {},
   "toc_section_display": true,
   "toc_window_display": false
  }
 },
 "nbformat": 4,
 "nbformat_minor": 2
}
